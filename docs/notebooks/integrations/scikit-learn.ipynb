{
 "cells": [
  {
   "cell_type": "markdown",
   "id": "f15331d1",
   "metadata": {},
   "source": [
    "# Working with Scikit-Learn\n",
    "\n",
    "This guide goes through how to use this package with the Scikit-Learn package.\n",
    "\n",
    "[Work in progress]"
   ]
  },
  {
   "cell_type": "markdown",
   "id": "9b3e0a66",
   "metadata": {},
   "source": [
    "## Load the train and test datasets\n",
    "\n",
    "We'll first get the train and test splits for the `musk` dataset (completely unrelated to Elon Musk)."
   ]
  },
  {
   "cell_type": "code",
   "execution_count": 4,
   "id": "08ddc74d",
   "metadata": {
    "scrolled": false
   },
   "outputs": [
    {
     "name": "stdout",
     "output_type": "stream",
     "text": [
      "Data already available at `temp/musk.npz`\n",
      "Data already available at `temp/musk.npz`\n",
      "The musk dataset is a classification task with 2 classes.\n"
     ]
    }
   ],
   "source": [
    "from tabben.datasets import OpenTabularDataset\n",
    "\n",
    "train = OpenTabularDataset('./temp', 'musk')  # train split by default\n",
    "test = OpenTabularDataset('./temp', 'musk', split='test')  # should only be used ONCE!\n",
    "\n",
    "print(f'The {train.name} dataset is a {train.task} task with {train.num_classes} classes.')"
   ]
  },
  {
   "cell_type": "markdown",
   "id": "28b0e7a5",
   "metadata": {},
   "source": [
    "## Create and train a model\n",
    "\n",
    "Next, we'll create a $k$-Nearest Neighbors model and train it on our train split."
   ]
  },
  {
   "cell_type": "code",
   "execution_count": 3,
   "id": "b7ec249b",
   "metadata": {},
   "outputs": [],
   "source": [
    "from sklearn.neighbors import KNeighborsClassifier\n",
    "\n",
    "model = KNeighborsClassifier()"
   ]
  },
  {
   "cell_type": "code",
   "execution_count": null,
   "id": "faaeeaa5",
   "metadata": {},
   "outputs": [],
   "source": [
    "model.fit()"
   ]
  }
 ],
 "metadata": {
  "jupytext": {
   "cell_metadata_filter": "-all",
   "main_language": "python",
   "notebook_metadata_filter": "-all"
  },
  "kernelspec": {
   "display_name": "Python 3 (ipykernel)",
   "language": "python",
   "name": "python3"
  },
  "language_info": {
   "codemirror_mode": {
    "name": "ipython",
    "version": 3
   },
   "file_extension": ".py",
   "mimetype": "text/x-python",
   "name": "python",
   "nbconvert_exporter": "python",
   "pygments_lexer": "ipython3",
   "version": "3.8.10"
  }
 },
 "nbformat": 4,
 "nbformat_minor": 5
}
