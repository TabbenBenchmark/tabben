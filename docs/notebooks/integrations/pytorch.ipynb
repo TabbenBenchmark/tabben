{
 "cells": [
  {
   "cell_type": "markdown",
   "id": "b709a520",
   "metadata": {},
   "source": [
    "+++\n",
    "title = \"Working with (Vanilla) PyTorch\"\n",
    "+++\n",
    "\n",
    "This guide goes through how to use this package with the standard PyTorch workflow."
   ]
  },
  {
   "cell_type": "code",
   "execution_count": null,
   "id": "5f2ef7c8",
   "metadata": {},
   "outputs": [],
   "source": [
    "!pip3 install tabben torch"
   ]
  },
  {
   "cell_type": "markdown",
   "id": "3092b846",
   "metadata": {},
   "source": [
    "## Loading the data\n",
    "\n",
    "For this example, we'll use the poker hand prediction dataset."
   ]
  },
  {
   "cell_type": "code",
   "execution_count": 1,
   "id": "dfc79f5e",
   "metadata": {},
   "outputs": [
    {
     "name": "stdout",
     "output_type": "stream",
     "text": [
      "Data already available at `data/poker.npz`\n"
     ]
    }
   ],
   "source": [
    "from tabben.datasets import OpenTabularDataset\n",
    "\n",
    "ds = OpenTabularDataset('./data/', 'poker')"
   ]
  },
  {
   "cell_type": "markdown",
   "id": "d8333441",
   "metadata": {},
   "source": [
    "And let's just look at the input and output attributes:"
   ]
  },
  {
   "cell_type": "code",
   "execution_count": 2,
   "id": "a1e7aff6",
   "metadata": {},
   "outputs": [
    {
     "name": "stdout",
     "output_type": "stream",
     "text": [
      "Input Attribute Names:\n",
      "['S1' 'C1' 'S2' 'C2' 'S3' 'C3' 'S4' 'C4' 'S5' 'C5']\n",
      "Output Attribute Names:\n",
      "['label']\n"
     ]
    }
   ],
   "source": [
    "print('Input Attribute Names:')\n",
    "print(ds.input_attributes)\n",
    "\n",
    "print('Output Attribute Names:')\n",
    "print(ds.output_attributes)"
   ]
  },
  {
   "cell_type": "markdown",
   "id": "f01ceb2a",
   "metadata": {},
   "source": [
    "Since we're working with PyTorch, the `OpenTabularDataset` object above is a PyTorch `Dataset` object that we can directly feed into a `DataLoader`."
   ]
  },
  {
   "cell_type": "code",
   "execution_count": 3,
   "id": "9d5939e8",
   "metadata": {},
   "outputs": [
    {
     "name": "stdout",
     "output_type": "stream",
     "text": [
      "Input Shape (Batched): torch.Size([8, 10])\n",
      "Output Shape (Batched): torch.Size([8])\n"
     ]
    }
   ],
   "source": [
    "from torch.utils.data import DataLoader\n",
    "\n",
    "dl = DataLoader(ds, batch_size=8)\n",
    "\n",
    "example_batch = next(iter(dl))\n",
    "print(f'Input Shape (Batched): {example_batch[0].shape}')\n",
    "print(f'Output Shape (Batched): {example_batch[1].shape}')"
   ]
  },
  {
   "cell_type": "markdown",
   "id": "37c04c96",
   "metadata": {},
   "source": [
    "## Setting up a basic model\n",
    "\n",
    "First, we'll create a basic model in PyTorch, just for illustration (you can replace this with whatever model you're trying to train/evaluate). It'll just be a feedforward neural network with a couple dense/linear layers (this probably won't perform well)."
   ]
  },
  {
   "cell_type": "code",
   "execution_count": 4,
   "id": "ddb43bf6",
   "metadata": {},
   "outputs": [],
   "source": [
    "from torch import nn\n",
    "import torch.nn.functional as F\n",
    "\n",
    "\n",
    "class ShallowClassificationNetwork(nn.Module):\n",
    "    \n",
    "    def __init__(self, num_inputs, num_classes):\n",
    "        super().__init__()\n",
    "        self.linear1 = nn.Linear(num_inputs, 32)\n",
    "        self.linear2 = nn.Linear(32, 32)\n",
    "        self.linear3 = nn.Linear(32, num_classes)\n",
    "    \n",
    "    def forward(self, inputs):\n",
    "        # [b, num_inputs] -> [b, 32]\n",
    "        x = F.relu(self.linear1(inputs))\n",
    "        \n",
    "        # [b, 32] -> [b, 32]\n",
    "        x = F.relu(self.linear2(x))\n",
    "        \n",
    "        # [b, 32] -> [b, num_classes] (log(softmax(.)) computed over each row)\n",
    "        x = F.log_softmax(self.linear3(x), dim=1)\n",
    "        \n",
    "        return x\n",
    "    \n",
    "    def predict(self, inputs):\n",
    "        x = F.relu(self.linear1(inputs))\n",
    "        x = F.relu(self.linear2(x))\n",
    "        return F.softmax(self.linear3(x), dim=1)\n"
   ]
  },
  {
   "cell_type": "code",
   "execution_count": 5,
   "id": "72d542a9",
   "metadata": {},
   "outputs": [],
   "source": [
    "import torch\n",
    "\n",
    "device = torch.device('cpu')  # change this to 'cuda' if you have access to a CUDA GPU\n",
    "model = ShallowClassificationNetwork(ds.num_inputs, ds.num_classes).to(device)"
   ]
  },
  {
   "cell_type": "markdown",
   "id": "b5c0305c",
   "metadata": {},
   "source": [
    "## Training the model\n",
    "\n",
    "Now that we have a basic model and a training dataset (the default split for `OpenTabularDataset` is the train split), we can train our simple network using a PyTorch training loop."
   ]
  },
  {
   "cell_type": "code",
   "execution_count": 6,
   "id": "0783d349",
   "metadata": {},
   "outputs": [],
   "source": [
    "from torch import optim\n",
    "\n",
    "criterion = nn.NLLLoss()\n",
    "optimizer = optim.SGD(model.parameters(), lr=0.05, momentum=0.9)\n"
   ]
  },
  {
   "cell_type": "code",
   "execution_count": 7,
   "id": "316f9c36",
   "metadata": {},
   "outputs": [
    {
     "name": "stderr",
     "output_type": "stream",
     "text": [
      "Train epoch: 100%|████████████████████████████████████████████████████████████████████████████████████████████████████████████████████████| 30/30 [00:34<00:00,  1.14s/it, train loss=0.1244, train acc=47.93%]\n"
     ]
    }
   ],
   "source": [
    "from tqdm import trange\n",
    "\n",
    "model.train()\n",
    "\n",
    "training_progress = trange(30, desc='Train epoch')\n",
    "for epoch in training_progress:\n",
    "    running_loss = 0.\n",
    "    running_acc = 0.\n",
    "    running_count = 0\n",
    "    \n",
    "    for batch_input, batch_output in dl:\n",
    "        optimizer.zero_grad()\n",
    "        \n",
    "        outputs = model(batch_input.float().to(device))\n",
    "        preds = outputs.argmax(dim=1)\n",
    "        \n",
    "        loss = criterion(outputs, batch_output)\n",
    "        loss.backward()\n",
    "        \n",
    "        optimizer.step()\n",
    "        \n",
    "        running_loss += loss.item()\n",
    "        running_acc += (preds == batch_output).sum()\n",
    "        running_count += batch_input.size(0)\n",
    "    \n",
    "    training_progress.set_postfix({\n",
    "        'train loss': f'{running_loss / running_count:.4f}',\n",
    "        'train acc': f'{100 * running_acc / running_count:.2f}%',\n",
    "    })\n"
   ]
  },
  {
   "cell_type": "markdown",
   "id": "f27e8466",
   "metadata": {},
   "source": [
    "You can play around with the hyperparameters, but the model isn't likely to get particularly good performance like this. But, we'll go ahead and evaluate the final model (we ignored having a validation set in this guide) on the test set.\n",
    "\n",
    "## Evaluating on the test set"
   ]
  },
  {
   "cell_type": "code",
   "execution_count": 8,
   "id": "29afb611",
   "metadata": {},
   "outputs": [
    {
     "name": "stdout",
     "output_type": "stream",
     "text": [
      "Data already available at `data/poker.npz`\n",
      "1000000\n"
     ]
    }
   ],
   "source": [
    "test_ds = OpenTabularDataset('./data/', 'poker', split='test')\n",
    "test_dl = DataLoader(test_ds, batch_size=16)\n",
    "print(len(test_ds))"
   ]
  },
  {
   "cell_type": "markdown",
   "id": "3f043703",
   "metadata": {},
   "source": [
    "Let's run the model and save its outputs for later evaluation (since we left the softmax operation for the loss when we defined the model above, we'll need to softmax the outputs to get probabilities)."
   ]
  },
  {
   "cell_type": "code",
   "execution_count": 9,
   "id": "c48acf7c",
   "metadata": {},
   "outputs": [],
   "source": [
    "model.eval()\n",
    "\n",
    "pred_outputs = []\n",
    "gt_outputs = []\n",
    "\n",
    "for test_inputs, test_outputs in test_dl:\n",
    "    batch_outputs = model(test_inputs.float().to(device))\n",
    "    pred_outputs.append(batch_outputs.detach().cpu())\n",
    "    gt_outputs.append(test_outputs)"
   ]
  },
  {
   "cell_type": "code",
   "execution_count": 10,
   "id": "9f8c59ae",
   "metadata": {
    "scrolled": true
   },
   "outputs": [],
   "source": [
    "test_pred_outputs = torch.softmax(torch.vstack(pred_outputs).detach().cpu(), axis=1)\n",
    "test_gt_outputs = torch.hstack(gt_outputs).detach().cpu()"
   ]
  },
  {
   "cell_type": "markdown",
   "id": "81fbf4c5",
   "metadata": {},
   "source": [
    "We can get the standard set of metrics and then evaluate the outputs of the test set on them."
   ]
  },
  {
   "cell_type": "code",
   "execution_count": 11,
   "id": "0bb9474b",
   "metadata": {},
   "outputs": [
    {
     "name": "stdout",
     "output_type": "stream",
     "text": [
      "<function mcc_multiclass at 0x7f84da87a8b0>: 0.0\n"
     ]
    }
   ],
   "source": [
    "from tabben.evaluators import get_metrics\n",
    "\n",
    "eval_metrics = get_metrics(ds.task, classes=ds.num_classes)\n",
    "for metric in eval_metrics:\n",
    "    print(f'{metric}: {metric(test_gt_outputs, test_pred_outputs)}')"
   ]
  },
  {
   "cell_type": "markdown",
   "id": "f4b9038a",
   "metadata": {},
   "source": [
    "---\n",
    "\n",
    "This code was last run with the following versions (if you're looking at the no-output webpage, see the notebook in the repository for versions):"
   ]
  },
  {
   "cell_type": "code",
   "execution_count": 12,
   "id": "ce28d65c",
   "metadata": {},
   "outputs": [
    {
     "name": "stdout",
     "output_type": "stream",
     "text": [
      "torch: 1.10.0\n",
      "tabben: 0.0.6\n"
     ]
    }
   ],
   "source": [
    "from importlib.metadata import version\n",
    "\n",
    "packages = ['torch', 'tabben']\n",
    "\n",
    "for pkg in packages:\n",
    "    print(f'{pkg}: {version(pkg)}')"
   ]
  },
  {
   "cell_type": "code",
   "execution_count": null,
   "id": "797753c4",
   "metadata": {},
   "outputs": [],
   "source": []
  }
 ],
 "metadata": {
  "jupytext": {
   "cell_metadata_filter": "-all",
   "main_language": "python",
   "notebook_metadata_filter": "-all"
  },
  "kernelspec": {
   "display_name": "Python 3 (ipykernel)",
   "language": "python",
   "name": "python3"
  },
  "language_info": {
   "codemirror_mode": {
    "name": "ipython",
    "version": 3
   },
   "file_extension": ".py",
   "mimetype": "text/x-python",
   "name": "python",
   "nbconvert_exporter": "python",
   "pygments_lexer": "ipython3",
   "version": "3.8.10"
  }
 },
 "nbformat": 4,
 "nbformat_minor": 5
}
